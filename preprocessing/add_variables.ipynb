{
 "cells": [
  {
   "cell_type": "markdown",
   "metadata": {
    "id": "3iZ-__zAentu"
   },
   "source": [
    "# Indicators creation\n"
   ]
  },
  {
   "cell_type": "code",
   "execution_count": 5,
   "metadata": {
    "id": "UYqHTpFlfbHY"
   },
   "outputs": [],
   "source": [
    "import os\n",
    "import seaborn as sns\n",
    "import matplotlib.pyplot as plt\n",
    "import pandas as pd\n",
    "import numpy as np\n",
    "from IPython.display import Markdown, display\n",
    "from sklearn.tree import DecisionTreeClassifier,export_text\n",
    "import warnings\n",
    "warnings.filterwarnings('ignore')\n",
    "from scipy.stats import kruskal"
   ]
  },
  {
   "cell_type": "code",
   "execution_count": 6,
   "metadata": {
    "colab": {
     "base_uri": "https://localhost:8080/"
    },
    "id": "8FMyYDeXem6J",
    "outputId": "12db2722-6ecb-4867-d2be-3e9f329252f0"
   },
   "outputs": [],
   "source": [
    "samples = pd.read_excel('../data/samples.xlsx', sheet_name=None)\n",
    "\n",
    "train = samples[list(samples.keys())[0]]\n",
    "test = samples[list(samples.keys())[1]]\n",
    "oot = samples[list(samples.keys())[2]]"
   ]
  },
  {
   "cell_type": "code",
   "execution_count": 7,
   "metadata": {},
   "outputs": [],
   "source": [
    "epsilon = 1e-6\n",
    "\n",
    "# Calcul des nouvelles variables\n",
    "train['ratio_debiteurs_3mois'] = (train['CRTAD_AG_NBJDE_BA'] + train['CRTAD_AG_NBJDE_BC']) / train['CRTAD_AG_NBECR_A']\n",
    "train['ratio_ecritures'] = train['CRTAD_AG_NBECR_A'] / (train['ANCIENNETE'] + epsilon)\n",
    "train['ratio_ecritures'] = train['CRTAD_AG_NBECR_A'] / (train['ANCIENNETE'] + epsilon)\n",
    "train['ratio_age_anciennete'] = train['AGEPRS'] / (train['ANCIENNETE'] + epsilon)\n",
    "train['ratio_mvt_aff_soldes'] = (train['CRTAD_AG_MVTAFF_IND_0010'] / train['CRTAD_AG_SOLDE_T']).fillna(-1)\n",
    "train['ratio_jours_debiteurs'] = train['CRTOC_IND_0015'] / (train['ANCIENNETE'] + epsilon)\n",
    "train['variation_soldes_moyens'] = (train['CRTAD_AG_SOLDE_T'] - train['CRTAD_AG_SOLDE_T1']) / train['CRTAD_AG_SOLDE_T1']\n",
    "train['var_jours_debiteurs_historique'] = train['CRTAD_AG_NBJDE_BC'] - train['CRTAD_AG_NBJDE_BA']\n",
    "train['ecritures_mvt_aff_ratio_diff'] = (\n",
    "    (train['CRTAD_IND_0042'] / train['CRTAD_AG_MVTAFF_IND_0010']) -\n",
    "    (train['CRTAD_AG_NBECR_A'] / train['CRTAD_AG_MVTAFF_IND_0010']))\n",
    "train['var_soldes_moyens'] = train['CRTAD_AG_SOLDE_T1'] - train['CRTAD_AG_SOLDE_T2']\n",
    "train['var_soldes_long_terme'] = train['CRTAD_AG_SOLDE_T2'] - train['CRTAD_AG_SOLDE_T3']\n",
    "train['ecart_sectoriel_solde'] = train['CRTAD_AG_SOLDE_T'] - train.groupby('CODNAF2')['CRTAD_AG_SOLDE_T'].transform('median')\n",
    "train['mouvement_affaire_12mois'] = train['CRTOC_AG_MVTAFF_IND_0010'] / 12\n",
    "train['log_solde_moyen'] = np.log(train['CRTAD_IND_0038'].replace(0, np.nan))\n",
    "train['anciennete_diff_age'] = train['ANCIENNETE'] - train['AGEPRS'] * 12\n",
    "train['var_nb_ecritures'] = train['CRTAD_AG_NBECR_A'] - train['CRTAD_AG_NBECR_B']\n",
    "train['var_glissante_jours_debiteurs'] = train['CRTAD_AG_NBJDE_BC'].rolling(window=3).mean()\n",
    "train['solde_moyen_pondere'] = train['CRTOC_SLD_MOY'] * (train['CRTOC_AG_NBJDEB_IND_0015'] / 365)\n",
    "train['moyenne_jours_debiteurs'] = (train['CRTOC_AG_NBJDEB_IND_0015'] + train['CRTOC_AG_NBJDEB_2T_IND_0015']) / 2\n",
    "train['dominance_crediteur'] = (train['CRTOC_AG_NBJCRE_2T_IND_0009'] > train['CRTOC_AG_LIGDEB_2T_IND_0015']).astype(int)\n",
    "\n",
    "\n",
    "\n",
    "test['ratio_debiteurs_3mois'] = (test['CRTAD_AG_NBJDE_BA'] + test['CRTAD_AG_NBJDE_BC']) / test['CRTAD_AG_NBECR_A']\n",
    "test['ratio_ecritures'] = test['CRTAD_AG_NBECR_A'] / (test['ANCIENNETE'] + epsilon)\n",
    "test['ratio_ecritures'] = test['CRTAD_AG_NBECR_A'] / (test['ANCIENNETE'] + epsilon)\n",
    "test['ratio_age_anciennete'] = test['AGEPRS'] / (test['ANCIENNETE'] + epsilon)\n",
    "test['ratio_mvt_aff_soldes'] = (test['CRTAD_AG_MVTAFF_IND_0010'] / test['CRTAD_AG_SOLDE_T']).fillna(-1)\n",
    "test['ratio_jours_debiteurs'] = test['CRTOC_IND_0015'] / (test['ANCIENNETE'] + epsilon)\n",
    "test['variation_soldes_moyens'] = (test['CRTAD_AG_SOLDE_T'] - test['CRTAD_AG_SOLDE_T1']) / test['CRTAD_AG_SOLDE_T1']\n",
    "test['var_jours_debiteurs_historique'] = test['CRTAD_AG_NBJDE_BC'] - test['CRTAD_AG_NBJDE_BA']\n",
    "test['ecritures_mvt_aff_ratio_diff'] = (\n",
    "    (test['CRTAD_IND_0042'] / test['CRTAD_AG_MVTAFF_IND_0010']) -\n",
    "    (test['CRTAD_AG_NBECR_A'] / test['CRTAD_AG_MVTAFF_IND_0010']))\n",
    "test['var_soldes_moyens'] = test['CRTAD_AG_SOLDE_T1'] - test['CRTAD_AG_SOLDE_T2']\n",
    "test['var_soldes_long_terme'] = test['CRTAD_AG_SOLDE_T2'] - test['CRTAD_AG_SOLDE_T3']\n",
    "test['ecart_sectoriel_solde'] = test['CRTAD_AG_SOLDE_T'] - test.groupby('CODNAF2')['CRTAD_AG_SOLDE_T'].transform('median')\n",
    "test['mouvement_affaire_12mois'] = test['CRTOC_AG_MVTAFF_IND_0010'] / 12\n",
    "test['log_solde_moyen'] = np.log(test['CRTAD_IND_0038'].replace(0, np.nan))\n",
    "test['anciennete_diff_age'] = test['ANCIENNETE'] - test['AGEPRS'] * 12\n",
    "test['var_nb_ecritures'] = test['CRTAD_AG_NBECR_A'] - test['CRTAD_AG_NBECR_B']\n",
    "test['var_glissante_jours_debiteurs'] = test['CRTAD_AG_NBJDE_BC'].rolling(window=3).mean()\n",
    "test['solde_moyen_pondere'] = test['CRTOC_SLD_MOY'] * (test['CRTOC_AG_NBJDEB_IND_0015'] / 365)\n",
    "test['moyenne_jours_debiteurs'] = (test['CRTOC_AG_NBJDEB_IND_0015'] + test['CRTOC_AG_NBJDEB_2T_IND_0015']) / 2\n",
    "test['dominance_crediteur'] = (test['CRTOC_AG_NBJCRE_2T_IND_0009'] > test['CRTOC_AG_LIGDEB_2T_IND_0015']).astype(int)\n",
    "\n",
    "oot['ratio_debiteurs_3mois'] = (oot['CRTAD_AG_NBJDE_BA'] + oot['CRTAD_AG_NBJDE_BC']) / oot['CRTAD_AG_NBECR_A']\n",
    "oot['ratio_ecritures'] = oot['CRTAD_AG_NBECR_A'] / (oot['ANCIENNETE'] + epsilon)\n",
    "oot['ratio_ecritures'] = oot['CRTAD_AG_NBECR_A'] / (oot['ANCIENNETE'] + epsilon)\n",
    "oot['ratio_age_anciennete'] = oot['AGEPRS'] / (oot['ANCIENNETE'] + epsilon)\n",
    "oot['ratio_mvt_aff_soldes'] = (oot['CRTAD_AG_MVTAFF_IND_0010'] / oot['CRTAD_AG_SOLDE_T']).fillna(-1)\n",
    "oot['ratio_jours_debiteurs'] = oot['CRTOC_IND_0015'] / (oot['ANCIENNETE'] + epsilon)\n",
    "oot['variation_soldes_moyens'] = (oot['CRTAD_AG_SOLDE_T'] - oot['CRTAD_AG_SOLDE_T1']) / oot['CRTAD_AG_SOLDE_T1']\n",
    "oot['var_jours_debiteurs_historique'] = oot['CRTAD_AG_NBJDE_BC'] - oot['CRTAD_AG_NBJDE_BA']\n",
    "oot['ecritures_mvt_aff_ratio_diff'] = (\n",
    "    (oot['CRTAD_IND_0042'] / oot['CRTAD_AG_MVTAFF_IND_0010']) -\n",
    "    (oot['CRTAD_AG_NBECR_A'] / oot['CRTAD_AG_MVTAFF_IND_0010']))\n",
    "oot['var_soldes_moyens'] = oot['CRTAD_AG_SOLDE_T1'] - oot['CRTAD_AG_SOLDE_T2']\n",
    "oot['var_soldes_long_terme'] = oot['CRTAD_AG_SOLDE_T2'] - oot['CRTAD_AG_SOLDE_T3']\n",
    "oot['ecart_sectoriel_solde'] = oot['CRTAD_AG_SOLDE_T'] - oot.groupby('CODNAF2')['CRTAD_AG_SOLDE_T'].transform('median')\n",
    "oot['mouvement_affaire_12mois'] = oot['CRTOC_AG_MVTAFF_IND_0010'] / 12\n",
    "oot['log_solde_moyen'] = np.log(oot['CRTAD_IND_0038'].replace(0, np.nan))\n",
    "oot['anciennete_diff_age'] = oot['ANCIENNETE'] - oot['AGEPRS'] * 12\n",
    "oot['var_nb_ecritures'] = oot['CRTAD_AG_NBECR_A'] - oot['CRTAD_AG_NBECR_B']\n",
    "oot['var_glissante_jours_debiteurs'] = oot['CRTAD_AG_NBJDE_BC'].rolling(window=3).mean()\n",
    "oot['solde_moyen_pondere'] = oot['CRTOC_SLD_MOY'] * (oot['CRTOC_AG_NBJDEB_IND_0015'] / 365)\n",
    "oot['moyenne_jours_debiteurs'] = (oot['CRTOC_AG_NBJDEB_IND_0015'] + oot['CRTOC_AG_NBJDEB_2T_IND_0015']) / 2\n",
    "oot['dominance_crediteur'] = (oot['CRTOC_AG_NBJCRE_2T_IND_0009'] > oot['CRTOC_AG_LIGDEB_2T_IND_0015']).astype(int)"
   ]
  },
  {
   "cell_type": "code",
   "execution_count": 8,
   "metadata": {},
   "outputs": [],
   "source": [
    "with pd.ExcelWriter('../data/samples.xlsx') as writer:\n",
    "    train.to_excel(writer, sheet_name='train', index=False)\n",
    "    test.to_excel(writer, sheet_name='test', index=False)\n",
    "    oot.to_excel(writer, sheet_name='oot', index=False)"
   ]
  }
 ],
 "metadata": {
  "colab": {
   "authorship_tag": "ABX9TyNfFA1uGCpfE3jjrbI0HOcA",
   "include_colab_link": true,
   "provenance": [],
   "toc_visible": true
  },
  "kernelspec": {
   "display_name": "Python 3",
   "language": "python",
   "name": "python3"
  },
  "language_info": {
   "codemirror_mode": {
    "name": "ipython",
    "version": 3
   },
   "file_extension": ".py",
   "mimetype": "text/x-python",
   "name": "python",
   "nbconvert_exporter": "python",
   "pygments_lexer": "ipython3",
   "version": "3.11.9"
  }
 },
 "nbformat": 4,
 "nbformat_minor": 0
}
