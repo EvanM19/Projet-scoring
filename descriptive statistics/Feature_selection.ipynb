{
 "cells": [
  {
   "cell_type": "markdown",
   "metadata": {
    "colab_type": "text",
    "id": "view-in-github"
   },
   "source": [
    "<a href=\"https://colab.research.google.com/github/EvanM19/Projet-scoring/blob/main/descriptive%20statistics/Feature_selection.ipynb\" target=\"_parent\"><img src=\"https://colab.research.google.com/assets/colab-badge.svg\" alt=\"Open In Colab\"/></a>"
   ]
  },
  {
   "cell_type": "markdown",
   "metadata": {
    "id": "3iZ-__zAentu"
   },
   "source": [
    "# Feature_selection and descriptive analisis\n",
    "\n"
   ]
  },
  {
   "cell_type": "markdown",
   "metadata": {
    "id": "m_twnKIWbtuU"
   },
   "source": [
    "### Data and library importation"
   ]
  },
  {
   "cell_type": "code",
   "execution_count": null,
   "metadata": {
    "id": "UYqHTpFlfbHY"
   },
   "outputs": [],
   "source": [
    "import pandas as pd\n",
    "import matplotlib.pyplot as plt\n",
    "import seaborn as sns\n",
    "import warnings\n",
    "import os\n",
    "from PyPDF2 import PdfMerger\n",
    "\n",
    "warnings.filterwarnings('ignore')\n",
    "pd.set_option('display.max_columns', None)\n",
    "pd.set_option('display.max_rows', None)\n",
    "pd.set_option('display.width', 1000)"
   ]
  },
  {
   "cell_type": "code",
   "execution_count": null,
   "metadata": {
    "colab": {
     "base_uri": "https://localhost:8080/"
    },
    "id": "8FMyYDeXem6J",
    "outputId": "12db2722-6ecb-4867-d2be-3e9f329252f0"
   },
   "outputs": [],
   "source": [
    "\n",
    "\n",
    "samples = pd.read_excel('../data/samples.xlsx', sheet_name=None)\n",
    "\n",
    "colonnes_a_supprimer = [ 'id_client', 'CODTYPPRS', 'CRTOD_CMT_PRO_IND_0209','INDPARDCD','CRTOP_AG_IND_0038', 'CRTOP_IND_0038', 'CRTOU_CCT_PRO_IND_0209', 'DATCREENT', 'DATRLNORG', 'RATIO1', 'RATIO3', 'TOP_PRO_ACTIF', 'IND_ACTIF', 'IND_PER_PM', 'CODCMNIEE', 'CODPAY_NAISSANCE', 'CODPAY_NATIONALITE', 'CODPAY_RESIDENCE', 'CODSEXPRS', 'secteur_activite', 'secteur_activite_bis' ]\n",
    "\n",
    "samples = samples\n",
    "train = samples[list(samples.keys())[0]]\n",
    "train = train.drop(columns=colonnes_a_supprimer)\n",
    "test = samples[list(samples.keys())[1]]\n",
    "test = test.drop(columns=colonnes_a_supprimer)\n",
    "oot = samples[list(samples.keys())[2]]\n",
    "oot = oot.drop(columns=colonnes_a_supprimer)\n",
    "sample = pd.concat([train, test, oot], ignore_index=True)"
   ]
  },
  {
   "cell_type": "markdown",
   "metadata": {
    "id": "6TilpZHxZgJn"
   },
   "source": [
    "### Preprocesing"
   ]
  },
  {
   "cell_type": "code",
   "execution_count": 67,
   "metadata": {
    "id": "B6Qj7O1xf8Ln"
   },
   "outputs": [],
   "source": [
    "# print(sample.shape)\n",
    "# print(sample.dtypes)\n",
    "# sample.describe()\n",
    "# print(sample.isnull().sum())\n",
    "\n",
    "# print(sample['DATCREPRSENT'].head())\n",
    "# print(sample['DATCREPRSENT'].describe())\n",
    "# print(sample['DATCREPRSENT'].isnull().mean())\n",
    "# print(\"25,76 % de valeurs manquantes. Par la suite on regroupera par période et on créera une autre modalité pour les valeurs manquantes.\")"
   ]
  },
  {
   "cell_type": "code",
   "execution_count": 3,
   "metadata": {
    "id": "lpwRFUhpgar6"
   },
   "outputs": [],
   "source": [
    "#####Datehis\n",
    "\n",
    "# print(sample['datdelhis'].unique())\n",
    "sample['datdelhis'] = sample['datdelhis'] % 100\n",
    "# print(sample['datdelhis'].unique())\n",
    "sample['datdelhis'] = sample['datdelhis'].astype(str)\n",
    "\n",
    "# observations_par_tranche = sample.groupby('datdelhis').size()\n",
    "# observations_par_tranche.plot(kind='bar', color='skyblue')\n",
    "# plt.title(\"Nombre d'observations par tranche de temps\")\n",
    "# plt.xlabel(\"Temps\")\n",
    "# plt.ylabel(\"Nombre d'observations\")\n",
    "# plt.xticks(rotation=45)\n",
    "# plt.show()\n",
    "\n",
    "quali=['DDefaut_NDB','datdelhis','AGEPRS','CODITDBDF_PRO','CODETAJUR','CODNAF2']\n"
   ]
  },
  {
   "cell_type": "markdown",
   "metadata": {
    "id": "6I8gZeBxZrj2"
   },
   "source": [
    "### Plots"
   ]
  },
  {
   "cell_type": "code",
   "execution_count": null,
   "metadata": {},
   "outputs": [],
   "source": [
    "o=\"plots\"\n",
    "os.makedirs(o,exist_ok=True)\n",
    "\n",
    "def f(data, target_column,feature,graph):\n",
    "  plt.figure(figsize=(10, 6))\n",
    "  if data[feature].dtype in ['int64', 'float64'] or feature not in quali:\n",
    "    if graph==1:\n",
    "      sns.kdeplot(data=data[data[target_column] == 0], x=feature, label='Cible = 0', fill=True, alpha=0.5)\n",
    "      sns.kdeplot(data=data[data[target_column] == 1], x=feature, label='Cible = 1', fill=True, alpha=0.5)\n",
    "      plt.title(f\"Distribution de {feature} par {target_column}\")\n",
    "      plt.xlabel(feature)\n",
    "      plt.ylabel(\"Densité\")\n",
    "    \n",
    "      file_path = os.path.join(o, \"c.pdf\")\n",
    "      plt.savefig(file_path)\n",
    "      plt.close()\n",
    "    else:\n",
    "      plt.subplot(1, 2, 1)\n",
    "      a = data[data[feature] != 0]\n",
    "      a = a.sort_values(by=feature)\n",
    "      a = a[int(len(a) * 0.01):int(len(a) * 0.99)]\n",
    "      sns.kdeplot(data=data[data[target_column] == 0], x=feature, label='Cible = 0', fill=True, alpha=0.5)\n",
    "      sns.kdeplot(data=data[data[target_column] == 1], x=feature, label='Cible = 1', fill=True, alpha=0.5)\n",
    "      plt.title(f\"Distribution de {feature} avec 0\")\n",
    "      plt.xlabel(feature)\n",
    "      plt.ylabel(\"Densité\")\n",
    "      plt.subplot(1, 2, 2)\n",
    "      sns.kdeplot(data=a[a[target_column] == 0], x=feature, label='Cible = 0', fill=True, alpha=0.5)\n",
    "      sns.kdeplot(data=a[a[target_column] == 1], x=feature, label='Cible = 1', fill=True, alpha=0.5)\n",
    "      plt.title(f\"Distribution de {feature} sans 0\")\n",
    "      plt.xlabel(feature)\n",
    "      plt.ylabel(\"Densité\")\n",
    "    \n",
    "      file_path = os.path.join(o, \"c.pdf\")\n",
    "      plt.savefig(file_path)\n",
    "      plt.close()\n",
    "  else:\n",
    "    counts_0 = data[data[target_column] == 0][feature].value_counts(normalize=True)\n",
    "    counts_1 = data[data[target_column] == 1][feature].value_counts(normalize=True)\n",
    "    categories = list(set(counts_0.index).union(set(counts_1.index)))\n",
    "    counts_0 = counts_0.reindex(categories, fill_value=0)\n",
    "    counts_1 = counts_1.reindex(categories, fill_value=0)\n",
    "    x = range(len(categories))\n",
    "    plt.bar(x, counts_0, width=0.4, label='Cible = 0', align='center', alpha=0.7)\n",
    "    plt.bar([xi + 0.4 for xi in x], counts_1, width=0.4, label='Cible = 1', align='center', alpha=0.7)\n",
    "    plt.xticks([xi + 0.2 for xi in x], categories, rotation=45)\n",
    "    plt.title(f\"Distribution de {feature} par {target_column}\")\n",
    "    plt.xlabel(feature)\n",
    "    plt.ylabel(\"Proportion\")\n",
    "    plt.legend()\n",
    "    plt.tight_layout()\n",
    "    # plt.show()\n",
    "    file_path = os.path.join(o, \"c.pdf\")\n",
    "    plt.savefig(file_path)\n",
    "    plt.close()\n",
    "\n",
    "\n",
    "def g(data, target_column):\n",
    "    features = [col for col in data.columns if col != target_column]\n",
    "    features=features[1:]\n",
    "    for x in features:\n",
    "\n",
    "        freq = sample[x].value_counts(normalize=True)\n",
    "        top_modality = freq.idxmax()\n",
    "        graph=1\n",
    "        if top_modality==0 and freq.max() >0.75:\n",
    "          graph=2\n",
    "          plt.figure(figsize=(12, 6))\n",
    "          plt.subplot(1, 2, 1)\n",
    "          a=sample[x]\n",
    "          a = a.sort_values()\n",
    "          a = a[int(len(a) * 0.01):int(len(a) * 0.99)]\n",
    "          sns.histplot(a, bins=30, color='blue')\n",
    "          plt.title('avec 0')\n",
    "          plt.subplot(1, 2, 2)\n",
    "          a = sample[sample[x] != 0]\n",
    "          a = a.sort_values(by=x)\n",
    "          a = a[int(len(a) * 0.01):int(len(a) * 0.99)]\n",
    "          sns.histplot(a[x], bins=30, color='blue')\n",
    "          plt.title('Sans 0')\n",
    "          file_path = os.path.join(o, \"a.pdf\")\n",
    "          plt.savefig(file_path)\n",
    "          plt.close()\n",
    "        \n",
    "\n",
    "          a = sample.dropna(subset=[x, 'datdelhis'])\n",
    "          df = a[a[x]!=0]\n",
    "          df = df.sort_values('datdelhis')\n",
    "          plt.figure(figsize=(10, 6))\n",
    "          plt.subplot(1, 2, 1)\n",
    "          sns.boxplot(x='datdelhis', y=x,showfliers=False, data=df, palette='pastel')\n",
    "          plt.xlabel('Date (Datdelhis)')\n",
    "          plt.ylabel(x)\n",
    "          plt.title(f'Distribution de {x} par Date (Sans 0)')\n",
    "          df = sample[sample[x] == 0]\n",
    "          df = df.sort_values('datdelhis')\n",
    "          observations_par_date = df.groupby('datdelhis').size().reset_index(name='Nombre d\\'observations')\n",
    "          plt.subplot(1, 2, 2)\n",
    "          sns.barplot(x='datdelhis', y='Nombre d\\'observations', data=observations_par_date, palette='pastel')\n",
    "          plt.title(f'Nb d\\'observations avec {x} nul par Date')\n",
    "          plt.xlabel('Date')\n",
    "          plt.ylabel(f'Nombre d\\'observations {x}')\n",
    "        \n",
    "          file_path = os.path.join(o, \"b.pdf\")\n",
    "          plt.savefig(file_path)\n",
    "          plt.close()\n",
    "        else:\n",
    "          a = sample[x]\n",
    "          a = a.sort_values()\n",
    "          a = a[int(len(a) * 0.01):int(len(a) * 0.99)]\n",
    "          plt.figure(figsize=(12, 6))\n",
    "          sns.histplot(a, bins=30, color='blue')\n",
    "        \n",
    "          file_path = os.path.join(o, \"a.pdf\")\n",
    "          plt.savefig(file_path)\n",
    "          plt.close()\n",
    "\n",
    "          a = sample.dropna(subset=[x, 'datdelhis'])\n",
    "          df = a.sort_values('datdelhis')\n",
    "          plt.figure(figsize=(10, 6))\n",
    "          sns.boxplot(x='datdelhis',y=x, data=df,showfliers=False, palette='pastel')\n",
    "          plt.xlabel('Datdelhis')\n",
    "          plt.ylabel(x)\n",
    "        \n",
    "          file_path = os.path.join(o, \"b.pdf\")\n",
    "          plt.savefig(file_path)\n",
    "          plt.close()\n",
    "\n",
    "        if x=='CODITDBDF_PRO':\n",
    "          graph=1\n",
    "        f(train,target_column,x,graph)\n",
    "        graph=1\n",
    "\n",
    "        merger = PdfMerger()\n",
    "        pdf_list=[\"plots/a.pdf\",\"plots/b.pdf\",\"plots/c.pdf\"]\n",
    "        for pdf in pdf_list:\n",
    "          merger.append(pdf)\n",
    "        merger.write(f\"plots/{x}.pdf\")\n",
    "        merger.close()\n",
    "\n",
    "g(sample,'DDefaut_NDB')"
   ]
  }
 ],
 "metadata": {
  "colab": {
   "authorship_tag": "ABX9TyNfFA1uGCpfE3jjrbI0HOcA",
   "include_colab_link": true,
   "provenance": [],
   "toc_visible": true
  },
  "kernelspec": {
   "display_name": ".venv",
   "language": "python",
   "name": "python3"
  },
  "language_info": {
   "codemirror_mode": {
    "name": "ipython",
    "version": 3
   },
   "file_extension": ".py",
   "mimetype": "text/x-python",
   "name": "python",
   "nbconvert_exporter": "python",
   "pygments_lexer": "ipython3",
   "version": "3.11.9"
  }
 },
 "nbformat": 4,
 "nbformat_minor": 0
}
